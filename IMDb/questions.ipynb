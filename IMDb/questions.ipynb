{
 "cells": [
  {
   "cell_type": "code",
   "execution_count": 9,
   "metadata": {},
   "outputs": [],
   "source": [
    "import pymongo\n",
    "from dotenv import load_dotenv\n",
    "import os"
   ]
  },
  {
   "cell_type": "code",
   "execution_count": 10,
   "metadata": {},
   "outputs": [],
   "source": [
    "load_dotenv()\n",
    "ATLAS_KEY = os.getenv('ATLAS_KEY')\n",
    "client = pymongo.MongoClient(ATLAS_KEY)"
   ]
  },
  {
   "cell_type": "code",
   "execution_count": 11,
   "metadata": {},
   "outputs": [],
   "source": [
    "dB = client['bdd']\n",
    "collection = dB['top_imdb']"
   ]
  },
  {
   "cell_type": "code",
   "execution_count": 12,
   "metadata": {},
   "outputs": [
    {
     "data": {
      "text/plain": [
       "{'_id': ObjectId('643fe2804166a3c56900a471'),\n",
       " 'titre': 'Gone with the Wind',\n",
       " 'titre_original': [],\n",
       " 'score': '8.2',\n",
       " 'genre': [],\n",
       " 'annee': '1939',\n",
       " 'duree': 238,\n",
       " 'descriptions': 'American motion picture classic in which a manipulative woman and a roguish man conduct a turbulent romance during the Civil War and Reconstruction periods.',\n",
       " 'acteurs': ['Clark Gable', 'Vivien Leigh', 'Thomas Mitchell'],\n",
       " 'public': 'Passed',\n",
       " 'pays': 'United States',\n",
       " 'langue': 'English'}"
      ]
     },
     "execution_count": 12,
     "metadata": {},
     "output_type": "execute_result"
    }
   ],
   "source": [
    "film_plus_long = collection.find_one(sort=[(\"duree\", pymongo.DESCENDING)])\n",
    "film_plus_long\n"
   ]
  },
  {
   "cell_type": "code",
   "execution_count": 13,
   "metadata": {},
   "outputs": [],
   "source": [
    "import pandas as pd"
   ]
  },
  {
   "cell_type": "code",
   "execution_count": 14,
   "metadata": {},
   "outputs": [],
   "source": [
    "df = pd.read_csv('film.csv')"
   ]
  },
  {
   "cell_type": "code",
   "execution_count": 15,
   "metadata": {},
   "outputs": [
    {
     "data": {
      "text/plain": [
       "['Crime', 'Drama']"
      ]
     },
     "execution_count": 15,
     "metadata": {},
     "output_type": "execute_result"
    }
   ],
   "source": [
    "df.genre\n",
    "\n",
    "\n",
    "def drop_back_to_top(x:str) -> list:\n",
    "    return x.split(',')[:-1]\n",
    "\n",
    "\n",
    "drop_back_to_top('Crime,Drama,Back to top')"
   ]
  },
  {
   "cell_type": "code",
   "execution_count": 17,
   "metadata": {},
   "outputs": [
    {
     "data": {
      "text/plain": [
       "0            Tim Robbins,Morgan Freeman,Bob Gunton\n",
       "1               Marlon Brando,Al Pacino,James Caan\n",
       "2        Christian Bale,Heath Ledger,Aaron Eckhart\n",
       "3           Al Pacino,Robert De Niro,Robert Duvall\n",
       "4    Leonardo DiCaprio,Emily Mortimer,Mark Ruffalo\n",
       "Name: acteurs, dtype: object"
      ]
     },
     "execution_count": 17,
     "metadata": {},
     "output_type": "execute_result"
    }
   ],
   "source": [
    "\n",
    "\n",
    "df.acteurs.head()\n"
   ]
  }
 ],
 "metadata": {
  "kernelspec": {
   "display_name": "base",
   "language": "python",
   "name": "python3"
  },
  "language_info": {
   "codemirror_mode": {
    "name": "ipython",
    "version": 3
   },
   "file_extension": ".py",
   "mimetype": "text/x-python",
   "name": "python",
   "nbconvert_exporter": "python",
   "pygments_lexer": "ipython3",
   "version": "3.10.8"
  },
  "orig_nbformat": 4
 },
 "nbformat": 4,
 "nbformat_minor": 2
}
